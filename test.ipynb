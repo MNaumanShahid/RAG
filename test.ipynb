{
 "cells": [
  {
   "cell_type": "code",
   "id": "initial_id",
   "metadata": {
    "collapsed": true,
    "ExecuteTime": {
     "end_time": "2024-11-01T20:32:41.185420Z",
     "start_time": "2024-11-01T20:32:41.135804Z"
    }
   },
   "source": "print(\"Hello\")",
   "outputs": [
    {
     "name": "stdout",
     "output_type": "stream",
     "text": [
      "Hello\n"
     ]
    }
   ],
   "execution_count": 2
  },
  {
   "metadata": {
    "ExecuteTime": {
     "end_time": "2024-11-01T20:32:49.857979Z",
     "start_time": "2024-11-01T20:32:49.849887Z"
    }
   },
   "cell_type": "code",
   "source": "print(5+4)",
   "id": "9d9fa99cbf6b5b00",
   "outputs": [
    {
     "name": "stdout",
     "output_type": "stream",
     "text": [
      "9\n"
     ]
    }
   ],
   "execution_count": 3
  },
  {
   "metadata": {
    "ExecuteTime": {
     "end_time": "2024-11-01T20:53:38.956465Z",
     "start_time": "2024-11-01T20:50:48.548342Z"
    }
   },
   "cell_type": "code",
   "source": "%pip install --quiet --upgrade langchain langchain-community langchain-chroma",
   "id": "cf6b44327de57f19",
   "outputs": [
    {
     "name": "stdout",
     "output_type": "stream",
     "text": [
      "Note: you may need to restart the kernel to use updated packages.\n"
     ]
    },
    {
     "name": "stderr",
     "output_type": "stream",
     "text": [
      "\n",
      "[notice] A new release of pip is available: 23.2.1 -> 24.3.1\n",
      "[notice] To update, run: python.exe -m pip install --upgrade pip\n"
     ]
    }
   ],
   "execution_count": 4
  },
  {
   "metadata": {
    "ExecuteTime": {
     "end_time": "2024-11-01T20:53:51.101257Z",
     "start_time": "2024-11-01T20:53:39.082700Z"
    }
   },
   "cell_type": "code",
   "source": "%pip install -qU langchain-openai",
   "id": "6ead79cfde104dc3",
   "outputs": [
    {
     "name": "stdout",
     "output_type": "stream",
     "text": [
      "Note: you may need to restart the kernel to use updated packages.\n"
     ]
    },
    {
     "name": "stderr",
     "output_type": "stream",
     "text": [
      "\n",
      "[notice] A new release of pip is available: 23.2.1 -> 24.3.1\n",
      "[notice] To update, run: python.exe -m pip install --upgrade pip\n"
     ]
    }
   ],
   "execution_count": 5
  },
  {
   "metadata": {
    "ExecuteTime": {
     "end_time": "2024-11-01T20:57:19.900358Z",
     "start_time": "2024-11-01T20:57:19.866910Z"
    }
   },
   "cell_type": "code",
   "source": [
    "import getpass\n",
    "import os\n",
    "\n",
    "from langchain_openai import ChatOpenAI\n",
    "\n",
    "llm = ChatOpenAI(model=\"gpt-4o\")"
   ],
   "id": "e6ab55d4ab54b128",
   "outputs": [],
   "execution_count": 7
  },
  {
   "metadata": {
    "ExecuteTime": {
     "end_time": "2024-11-01T21:01:23.367012Z",
     "start_time": "2024-11-01T21:01:23.335318Z"
    }
   },
   "cell_type": "code",
   "source": [
    "from langchain.schema import (\n",
    "    SystemMessage,\n",
    "    HumanMessage,\n",
    "    AIMessage\n",
    ")\n",
    "\n",
    "messages = [\n",
    "    SystemMessage(content=\"You are a helpful assistant.\"),\n",
    "    HumanMessage(content=\"Hi AI, how are you today?\"),\n",
    "    AIMessage(content=\"I'm great thank you. How can I help you?\"),\n",
    "    HumanMessage(content=\"What can you tell me about W3B JMI?\")\n",
    "]"
   ],
   "id": "cdba6e617a2645ec",
   "outputs": [],
   "execution_count": 11
  },
  {
   "metadata": {
    "ExecuteTime": {
     "end_time": "2024-11-01T21:01:47.385342Z",
     "start_time": "2024-11-01T21:01:45.443097Z"
    }
   },
   "cell_type": "code",
   "source": [
    "res = llm(messages)\n",
    "res.content"
   ],
   "id": "c3130b884883155b",
   "outputs": [
    {
     "data": {
      "text/plain": [
       "\"W3B JMI is a blockchain-based platform that aims to integrate Web3 technologies with various business processes. It focuses on providing decentralized solutions for different industries, leveraging blockchain's transparency, security, and efficiency. The platform might offer services such as smart contract development, decentralized finance (DeFi) solutions, and NFT marketplaces, although specific offerings can vary.\\n\\nIf you have specific aspects of W3B JMI you're curious about, such as its use cases, technology stack, or team, feel free to provide more details!\""
      ]
     },
     "execution_count": 13,
     "metadata": {},
     "output_type": "execute_result"
    }
   ],
   "execution_count": 13
  },
  {
   "metadata": {
    "ExecuteTime": {
     "end_time": "2024-11-01T21:11:06.722845Z",
     "start_time": "2024-11-01T21:11:06.687665Z"
    }
   },
   "cell_type": "code",
   "source": [
    "import os\n",
    "from langchain.document_loaders import TextLoader\n",
    "\n",
    "data_dir = \"data\"\n",
    "\n",
    "file_paths = [os.path.join(data_dir, file) for file in os.listdir(data_dir) if file.endswith(\".txt\")]\n",
    "documents = []\n",
    "for file_path in file_paths:\n",
    "    loader = TextLoader(file_path)\n",
    "    documents.extend(loader.load())"
   ],
   "id": "f4f8efff4e1fb3cd",
   "outputs": [],
   "execution_count": 14
  },
  {
   "metadata": {
    "ExecuteTime": {
     "end_time": "2024-11-01T21:11:25.904670Z",
     "start_time": "2024-11-01T21:11:25.879953Z"
    }
   },
   "cell_type": "code",
   "source": "len(documents)",
   "id": "e672fa991d891515",
   "outputs": [
    {
     "data": {
      "text/plain": [
       "3"
      ]
     },
     "execution_count": 18,
     "metadata": {},
     "output_type": "execute_result"
    }
   ],
   "execution_count": 18
  },
  {
   "metadata": {
    "ExecuteTime": {
     "end_time": "2024-11-01T21:13:27.411747Z",
     "start_time": "2024-11-01T21:13:21.370095Z"
    }
   },
   "cell_type": "code",
   "source": [
    "from langchain import hub\n",
    "from langchain_chroma import Chroma\n",
    "from langchain_core.output_parsers import StrOutputParser\n",
    "from langchain_core.runnables import RunnablePassthrough\n",
    "from langchain_openai import OpenAIEmbeddings\n",
    "from langchain_text_splitters import RecursiveCharacterTextSplitter\n",
    "\n",
    "text_splitter = RecursiveCharacterTextSplitter(chunk_size=1000, chunk_overlap=200)\n",
    "splits = text_splitter.split_documents(documents)\n",
    "vectorstore = Chroma.from_documents(documents=splits, embedding=OpenAIEmbeddings())"
   ],
   "id": "198db54f9400e7c",
   "outputs": [],
   "execution_count": 19
  },
  {
   "metadata": {
    "ExecuteTime": {
     "end_time": "2024-11-01T21:13:44.788842Z",
     "start_time": "2024-11-01T21:13:44.759191Z"
    }
   },
   "cell_type": "code",
   "source": "len(splits)",
   "id": "dbc2a4cf076141c1",
   "outputs": [
    {
     "data": {
      "text/plain": [
       "11"
      ]
     },
     "execution_count": 20,
     "metadata": {},
     "output_type": "execute_result"
    }
   ],
   "execution_count": 20
  },
  {
   "metadata": {
    "ExecuteTime": {
     "end_time": "2024-11-01T21:14:03.491214Z",
     "start_time": "2024-11-01T21:14:03.478399Z"
    }
   },
   "cell_type": "code",
   "source": "splits[0].page_content",
   "id": "8cf765dfa1ee2204",
   "outputs": [
    {
     "data": {
      "text/plain": [
       "'W3B - AI & Blockchain Society of JMI\\n\\nMission Statement: W3B - AI & Blockchain Society of Jamia Millia Islamia (JMI) is dedicated to fostering a community of innovators and learners passionate about Artificial Intelligence and Blockchain technologies. Our mission is to educate, inspire, and empower students to explore these cutting-edge fields through collaborative learning and real-world applications.\\n\\nAbout Us\\nFounded in 2020, W3B is a student-led society that serves as a hub for technology enthusiasts at JMI. We focus on:\\n\\nEducation: Hosting workshops and seminars to teach the fundamentals and advanced concepts in AI and Blockchain.\\nInnovation: Encouraging project development and research among members.\\nNetworking: Connecting students with industry professionals and alumni.\\nPast Events\\nAI in Healthcare Seminar\\nDate: March 15, 2021\\nDescription: A seminar discussing the impact of AI on the healthcare industry, featuring guest speakers from leading hospitals and tech companies.'"
      ]
     },
     "execution_count": 22,
     "metadata": {},
     "output_type": "execute_result"
    }
   ],
   "execution_count": 22
  },
  {
   "metadata": {
    "ExecuteTime": {
     "end_time": "2024-11-01T21:19:45.735496Z",
     "start_time": "2024-11-01T21:19:44.966001Z"
    }
   },
   "cell_type": "code",
   "source": [
    "retriever = vectorstore.as_retriever()\n",
    "prompt = hub.pull(\"rlm/rag-prompt\")"
   ],
   "id": "d1264b7acea544c1",
   "outputs": [
    {
     "name": "stderr",
     "output_type": "stream",
     "text": [
      "D:\\RAG Workshop\\.venv\\Lib\\site-packages\\langsmith\\client.py:234: LangSmithMissingAPIKeyWarning: API key must be provided when using hosted LangSmith API\n",
      "  warnings.warn(\n"
     ]
    }
   ],
   "execution_count": 31
  },
  {
   "metadata": {
    "ExecuteTime": {
     "end_time": "2024-11-01T21:20:17.259660Z",
     "start_time": "2024-11-01T21:20:17.248998Z"
    }
   },
   "cell_type": "code",
   "source": [
    "def format_docs(docs):\n",
    "    return \"\\n\\n\".join(doc.page_content for doc in docs)"
   ],
   "id": "46a06aff6da78a75",
   "outputs": [],
   "execution_count": 32
  },
  {
   "metadata": {
    "ExecuteTime": {
     "end_time": "2024-11-01T21:20:26.856553Z",
     "start_time": "2024-11-01T21:20:26.828055Z"
    }
   },
   "cell_type": "code",
   "source": [
    "rag_chain = (\n",
    "    {\"context\": retriever | format_docs, \"question\": RunnablePassthrough()}\n",
    "    | prompt\n",
    "    | llm\n",
    "    | StrOutputParser()\n",
    ")"
   ],
   "id": "79e04a01d6548458",
   "outputs": [],
   "execution_count": 33
  },
  {
   "metadata": {
    "ExecuteTime": {
     "end_time": "2024-11-01T21:20:48.077092Z",
     "start_time": "2024-11-01T21:20:45.104910Z"
    }
   },
   "cell_type": "code",
   "source": "rag_chain.invoke(\"What is W3B JMI?\")",
   "id": "9ffbb96a92dbfe3",
   "outputs": [
    {
     "data": {
      "text/plain": [
       "'W3B JMI is the AI & Blockchain Society of Jamia Millia Islamia, a student-led organization focused on education, innovation, and networking in the fields of Artificial Intelligence and Blockchain. Founded in 2020, it aims to educate and inspire students through workshops, seminars, and collaborative projects. The society is open to all JMI students, offering resources for both beginners and advanced learners.'"
      ]
     },
     "execution_count": 34,
     "metadata": {},
     "output_type": "execute_result"
    }
   ],
   "execution_count": 34
  },
  {
   "metadata": {
    "ExecuteTime": {
     "end_time": "2024-11-01T21:21:20.446833Z",
     "start_time": "2024-11-01T21:21:16.839338Z"
    }
   },
   "cell_type": "code",
   "source": "rag_chain.invoke(\"What is the finances of the organization?\")",
   "id": "d35485498d6667c",
   "outputs": [
    {
     "data": {
      "text/plain": [
       "\"The organization's financial health is strong, with a consistent income growth of 15% annually and efficient expense management resulting in a surplus each year. For the fiscal year 2022-2023, the total income was ₹500,000, with expenses of ₹360,000, leading to a surplus of ₹140,000. Additionally, they have an emergency fund of ₹50,000 and substantial sponsorship contributions totaling ₹250,000.\""
      ]
     },
     "execution_count": 35,
     "metadata": {},
     "output_type": "execute_result"
    }
   ],
   "execution_count": 35
  },
  {
   "metadata": {
    "ExecuteTime": {
     "end_time": "2024-11-01T23:14:04.333270Z",
     "start_time": "2024-11-01T23:14:01.530816Z"
    }
   },
   "cell_type": "code",
   "source": "rag_chain.invoke(\"How is the marketing like of W3B?\")",
   "id": "464e292e8905a640",
   "outputs": [
    {
     "data": {
      "text/plain": [
       "'The marketing of W3B involves hosting public seminars and workshops, collaborating with tech companies and startups for event sponsorships, and maintaining a strong presence on social media. They focus on education, innovation, and networking to connect students with industry professionals and offer hands-on experiences. Additionally, they provide updates via social media and newsletters to keep the community engaged.'"
      ]
     },
     "execution_count": 46,
     "metadata": {},
     "output_type": "execute_result"
    }
   ],
   "execution_count": 46
  },
  {
   "metadata": {},
   "cell_type": "code",
   "outputs": [],
   "execution_count": null,
   "source": "",
   "id": "6f3c64b3a6bde708"
  }
 ],
 "metadata": {
  "kernelspec": {
   "display_name": "Python 3",
   "language": "python",
   "name": "python3"
  },
  "language_info": {
   "codemirror_mode": {
    "name": "ipython",
    "version": 2
   },
   "file_extension": ".py",
   "mimetype": "text/x-python",
   "name": "python",
   "nbconvert_exporter": "python",
   "pygments_lexer": "ipython2",
   "version": "2.7.6"
  }
 },
 "nbformat": 4,
 "nbformat_minor": 5
}
